{
 "cells": [
  {
   "cell_type": "markdown",
   "id": "410e9fc3",
   "metadata": {},
   "source": [
    "# TUTORIAL ESN-421\n",
    "Name: Prahlada V Mittal\n",
    "Enr: 20411023 \n",
    "Batch: GPT-T4 \n"
   ]
  },
  {
   "cell_type": "markdown",
   "id": "a8af5ea9",
   "metadata": {},
   "source": [
    "Problem #1"
   ]
  },
  {
   "cell_type": "code",
   "execution_count": 4,
   "id": "9818378e",
   "metadata": {},
   "outputs": [
    {
     "data": {
      "image/png": "[encoded data removed]",
      "text/plain": [
       "<Figure size 432x288 with 1 Axes>"
      ]
     },
     "metadata": {
      "needs_background": "light"
     },
     "output_type": "display_data"
    },
    {
     "name": "stdout",
     "output_type": "stream",
     "text": [
      "Resulting Matrix:\n",
      "[[0 0 0 ... 0 0 0]\n",
      " [0 0 0 ... 0 0 0]\n",
      " [0 0 0 ... 0 0 0]\n",
      " ...\n",
      " [0 0 0 ... 0 0 0]\n",
      " [0 0 0 ... 0 0 0]\n",
      " [0 0 0 ... 0 0 0]]\n"
     ]
    }
   ],
   "source": [
    "import numpy as np\n",
    "import matplotlib.pyplot as plt\n",
    "\n",
    "def create_mesh_grid(rows, cols):\n",
    "    return np.zeros((rows, cols), dtype=int)\n",
    "\n",
    "def connect_points(matrix, point1, point2):\n",
    "    x1, y1 = point1\n",
    "    x2, y2 = point2\n",
    "\n",
    "    dx = abs(x2 - x1)\n",
    "    dy = abs(y2 - y1)\n",
    "    sx = 1 if x1 < x2 else -1\n",
    "    sy = 1 if y1 < y2 else -1\n",
    "    err = dx - dy\n",
    "\n",
    "    while (x1, y1) != (x2, y2):\n",
    "        matrix[y1, x1] = 1  # indexing the points on the line\n",
    "        e2 = 2 * err\n",
    "        if e2 > -dy:\n",
    "            err -= dy\n",
    "            x1 += sx\n",
    "        if e2 < dx:\n",
    "            err += dx\n",
    "            y1 += sy\n",
    "\n",
    "    matrix[y1, x1] = 1  # indexing the last point on the line\n",
    "\n",
    "# size of the mesh grid\n",
    "rows, cols = 100, 100\n",
    "grid_matrix = create_mesh_grid(rows, cols)\n",
    "\n",
    "# Randomly select two points\n",
    "start_point = (np.random.randint(rows), np.random.randint(cols))\n",
    "end_point = (np.random.randint(rows), np.random.randint(cols))\n",
    "\n",
    "# Connect the points \n",
    "connect_points(grid_matrix, start_point, end_point)\n",
    "\n",
    "# PLots\n",
    "plt.imshow(grid_matrix, cmap='viridis', origin='upper', interpolation='nearest')\n",
    "plt.scatter([start_point[0], end_point[0]], [start_point[1], end_point[1]], c='red')  \n",
    "plt.title(f\"Connected Points: {start_point} to {end_point}\")\n",
    "plt.show()\n",
    "\n",
    "# Resulting matrix\n",
    "print(\"Resulting Matrix:\")\n",
    "print(grid_matrix)\n"
   ]
  },
  {
   "cell_type": "code",
   "execution_count": 5,
   "id": "250e9f8c",
   "metadata": {},
   "outputs": [
    {
     "data": {
      "image/png": "[encoded data removed]",
      "text/plain": [
       "<Figure size 432x288 with 1 Axes>"
      ]
     },
     "metadata": {
      "needs_background": "light"
     },
     "output_type": "display_data"
    },
    {
     "name": "stdout",
     "output_type": "stream",
     "text": [
      "Resulting Matrix with Weights:\n",
      "[[0. 0. 0. 0. 0. 0. 0. 0. 0. 0.]\n",
      " [0. 0. 0. 0. 0. 0. 0. 0. 0. 0.]\n",
      " [0. 0. 1. 0. 0. 0. 0. 0. 0. 0.]\n",
      " [0. 2. 0. 0. 0. 0. 0. 0. 0. 0.]\n",
      " [0. 0. 0. 0. 0. 0. 0. 0. 0. 0.]\n",
      " [0. 0. 0. 0. 0. 0. 0. 0. 0. 0.]\n",
      " [0. 0. 0. 0. 0. 0. 0. 0. 0. 0.]\n",
      " [0. 0. 0. 0. 0. 0. 0. 0. 0. 0.]\n",
      " [0. 0. 0. 0. 0. 0. 0. 0. 0. 0.]\n",
      " [0. 0. 0. 0. 0. 0. 0. 0. 0. 0.]]\n"
     ]
    }
   ],
   "source": [
    "def create_mesh_grid(rows, cols):\n",
    "    return np.zeros((rows, cols), dtype=float)\n",
    "\n",
    "def connect_points(matrix, point1, point2):\n",
    "    x1, y1 = point1\n",
    "    x2, y2 = point2\n",
    "\n",
    "    dx = abs(x2 - x1)\n",
    "    dy = abs(y2 - y1)\n",
    "    sx = 1 if x1 < x2 else -1\n",
    "    sy = 1 if y1 < y2 else -1\n",
    "    err = dx - dy\n",
    "\n",
    "    total_distance = 0.0\n",
    "\n",
    "    while (x1, y1) != (x2, y2):\n",
    "        matrix[y1, x1] = total_distance  \n",
    "        e2 = 2 * err\n",
    "        if e2 > -dy:\n",
    "            err -= dy\n",
    "            x1 += sx\n",
    "        if e2 < dx:\n",
    "            err += dx\n",
    "            y1 += sy\n",
    "\n",
    "        total_distance += 1.0 \n",
    "\n",
    "    matrix[y1, x1] = total_distance  \n",
    "\n",
    "# create mesh grid\n",
    "rows, cols = 10, 10\n",
    "grid_matrix = create_mesh_grid(rows, cols)\n",
    "\n",
    "# Random\n",
    "start_point = (np.random.randint(rows), np.random.randint(cols))\n",
    "end_point = (np.random.randint(rows), np.random.randint(cols))\n",
    "\n",
    "# Connect points \n",
    "connect_points(grid_matrix, start_point, end_point)\n",
    "\n",
    "# Plot\n",
    "plt.imshow(grid_matrix, cmap='viridis', origin='upper', interpolation='nearest')\n",
    "plt.scatter([start_point[0], end_point[0]], [start_point[1], end_point[1]], c='red')  \n",
    "plt.title(f\"Connected Points: {start_point} to {end_point}\")\n",
    "plt.show()\n",
    "\n",
    "# Resulting matrix \n",
    "print(\"Resulting Matrix with Weights:\")\n",
    "print(grid_matrix)\n"
   ]
  },
  {
   "cell_type": "markdown",
   "id": "3cf6f8d2",
   "metadata": {},
   "source": [
    "Problem #2"
   ]
  },
  {
   "cell_type": "code",
   "execution_count": 8,
   "id": "fae5671d",
   "metadata": {},
   "outputs": [
    {
     "name": "stdout",
     "output_type": "stream",
     "text": [
      "[87 90 82 69  6 74 61 29 62  2]\n",
      "[84 52 33 28 24  5 43 79 71 43]\n",
      "[30  7 91 97  0 72 88 59 32 94]\n",
      "[79 79 83 68  0 44 90 49  0  7]\n",
      "[86  4  3 35 70 14 20 94 82 46]\n",
      "[55 74  8 52  7 21 43  0 19 54]\n",
      "[55 11 73  6 47 31 41 95 38 96]\n",
      "[ 6 78 62 95 29 53 80 34 30 71]\n",
      "[88 64 79 90 78 13  8 94 48 15]\n",
      "[65  8  1 47 39 73 94 53 48 21]\n",
      "\n",
      "Ray path for value 79: [79, 88, 90]\n"
     ]
    },
    {
     "data": {
      "image/png": "[encoded data removed]",
      "text/plain": [
       "<Figure size 432x288 with 1 Axes>"
      ]
     },
     "metadata": {
      "needs_background": "light"
     },
     "output_type": "display_data"
    }
   ],
   "source": [
    "import random\n",
    "import numpy as np\n",
    "import matplotlib.pyplot as plt\n",
    "from scipy.spatial import Voronoi, voronoi_plot_2d\n",
    "\n",
    "def generate_random_grid(rows, cols, start_range, end_range):\n",
    "    total_elements = rows * cols\n",
    "    if end_range - start_range < total_elements:\n",
    "        raise ValueError(\"Error!\")\n",
    "\n",
    "    random_integers = [random.randint(start_range, end_range - 1) for _ in range(total_elements)]\n",
    "    random_grid = np.array([random_integers[i:i + cols] for i in range(0, total_elements, cols)])\n",
    "\n",
    "    return random_grid\n",
    "\n",
    "def get_index(grid, val):\n",
    "    for i, row in enumerate(grid):\n",
    "        for j, value in enumerate(row):\n",
    "            if value == val:\n",
    "                return i, j\n",
    "\n",
    "def ray_path(random_grid, val):\n",
    "    x, y = get_index(random_grid, val)\n",
    "    path = [val]\n",
    "    \n",
    "    for k in range(3):\n",
    "        A = []\n",
    "        for i in [-1, 0, 1]:\n",
    "            for j in [-1, 0, 1]:\n",
    "                if 0 <= x + i < len(random_grid) and 0 <= y + j < len(random_grid[0]) and (i != 0 or j != 0):\n",
    "                    if random_grid[x + i][y + j] >= random_grid[x][y]:\n",
    "                        A.append(random_grid[x + i][y + j])\n",
    "        \n",
    "        if not A:\n",
    "            break\n",
    "        \n",
    "        max_neighbor = max(A)\n",
    "        path.append(max_neighbor)\n",
    "        x, y = get_index(random_grid, max_neighbor)\n",
    "    \n",
    "    return path\n",
    "\n",
    "def voronoi_cells(random_grid):\n",
    "    rows, cols = random_grid.shape\n",
    "    points = np.array([[i, j] for i in range(rows) for j in range(cols)])\n",
    "    vor = Voronoi(points)\n",
    "    \n",
    "    fig, ax = plt.subplots()\n",
    "    \n",
    "    # Plot Voronoi cells\n",
    "    voronoi_plot_2d(vor, ax=ax, show_vertices=False, line_colors='orange', line_width=2, line_alpha=0.6, point_size=2)\n",
    "    \n",
    "    # Overlay the random grid values\n",
    "    for i in range(rows):\n",
    "        for j in range(cols):\n",
    "            plt.text(j, i, str(random_grid[i, j]), ha='center', va='center', color='black')\n",
    "\n",
    "    plt.title('Voronoi Cells with Random Grid Values')\n",
    "    plt.show()\n",
    "\n",
    "# Generate random grid\n",
    "rows = 10\n",
    "cols = 10\n",
    "start_range = 0\n",
    "end_range = 100\n",
    "\n",
    "random_grid = generate_random_grid(rows, cols, start_range, end_range)\n",
    "\n",
    "# Print the generated random grid\n",
    "for row in random_grid:\n",
    "    print(row)\n",
    "\n",
    "# Example usage of ray_path\n",
    "i = random.randint(0, rows - 1)\n",
    "j = random.randint(0, cols - 1)\n",
    "target_value = random_grid[i, j]\n",
    "\n",
    "result_path = ray_path(random_grid, target_value)\n",
    "\n",
    "print(f\"\\nRay path for value {target_value}: {result_path}\")\n",
    "\n",
    "# Create and display Voronoi cells\n",
    "voronoi_cells(random_grid)\n"
   ]
  }
 ],
 "metadata": {
  "kernelspec": {
   "display_name": "Python 3 (ipykernel)",
   "language": "python",
   "name": "python3"
  },
  "language_info": {
   "codemirror_mode": {
    "name": "ipython",
    "version": 3
   },
   "file_extension": ".py",
   "mimetype": "text/x-python",
   "name": "python",
   "nbconvert_exporter": "python",
   "pygments_lexer": "ipython3",
   "version": "3.9.12"
  }
 },
 "nbformat": 4,
 "nbformat_minor": 5
}
